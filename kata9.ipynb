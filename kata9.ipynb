{
 "cells": [
  {
   "cell_type": "markdown",
   "metadata": {},
   "source": [
    "## Ejercicio 1: Trabajar con argumentos en funciones"
   ]
  },
  {
   "cell_type": "code",
   "execution_count": 15,
   "metadata": {},
   "outputs": [
    {
     "name": "stdout",
     "output_type": "stream",
     "text": [
      "Combustible promedio: 3.6666666666666665\n",
      "    Combustible 1: 3\n",
      "    Combustible 2: 5\n",
      "    Combustible 2: 6\n",
      "    \n"
     ]
    }
   ],
   "source": [
    "def reporte(combustible1,combustible2,combustible3):\n",
    "    return f\"\"\"Combustible promedio: {(combustible1+combustible2+combustible1)/3}\n",
    "    Combustible 1: {combustible1}\n",
    "    Combustible 2: {combustible2}\n",
    "    Combustible 2: {combustible3}\n",
    "    \"\"\"\n",
    "\n",
    "print(reporte(3,5,6))   "
   ]
  },
  {
   "cell_type": "code",
   "execution_count": 16,
   "metadata": {},
   "outputs": [
    {
     "name": "stdout",
     "output_type": "stream",
     "text": [
      "Combustible promedio: 3.6666666666666665\n",
      "    Combustible 1: 3\n",
      "    Combustible 2: 5\n",
      "    Combustible 2: 6\n",
      "    \n"
     ]
    }
   ],
   "source": [
    "# Función para leer 3 tanques de combustible y muestre el promedio\n",
    "def promedio(combustible1,combustible2,combustible3): # Función promedio    \n",
    "    prom=(combustible1+combustible2+combustible3)/3\n",
    "    return prom\n",
    "# Llamamos a la función que genera el reporte print(funcion(tanque1, tanque2, tanque3))\n",
    "def reporte(comb1,comb2,comb3):\n",
    "    return f\"\"\"Combustible promedio: {promedio(comb1,comb2,comb1)}\n",
    "    Combustible 1: {comb1}\n",
    "    Combustible 2: {comb2}\n",
    "    Combustible 2: {comb3}\n",
    "    \"\"\"\n",
    "\n",
    "print(reporte(3,5,6))    "
   ]
  },
  {
   "cell_type": "markdown",
   "metadata": {},
   "source": [
    "## Ejercicio 2: Trabajo con argumentos de palabra clave"
   ]
  },
  {
   "cell_type": "code",
   "execution_count": 5,
   "metadata": {},
   "outputs": [
    {
     "name": "stdout",
     "output_type": "stream",
     "text": [
      "\"Hora de lanzamiento: 10\n",
      "    Tiempo de vuelo:20\n",
      "    Destino: Japon\n",
      "    Tanque Externo: 10\n",
      "    Tanque Interno: 20\n",
      "    \n"
     ]
    }
   ],
   "source": [
    "# Función con un informe preciso de la misión. \n",
    "# Considera hora de prelanzamiento, tiempo de vuelo, destino, tanque externo y tanque interno\n",
    "\n",
    "def informe(horaLanzamiento,tiempoVuelo,destino,tranqueExt,tanqueInt):\n",
    "    return f\"\"\"\"Hora de lanzamiento: {horaLanzamiento}\n",
    "    Tiempo de vuelo:{tiempoVuelo}\n",
    "    Destino: {destino}\n",
    "    Tanque Externo: {tranqueExt}\n",
    "    Tanque Interno: {tanqueInt}\n",
    "    \"\"\"\n",
    "print(informe(10,20,\"Japon\",10,20))"
   ]
  },
  {
   "cell_type": "code",
   "execution_count": 10,
   "metadata": {},
   "outputs": [
    {
     "name": "stdout",
     "output_type": "stream",
     "text": [
      "Hora de lanzamiento: 10\n",
      "    Destino: Japon\n",
      "    Tiempo total de Vuelo: 170 minutos.\n",
      "    Combustible total: 500\n",
      "    \n"
     ]
    }
   ],
   "source": [
    "#Hazlo más flexible permitiendo cualquier número de pasos basados en el tiempo y cualquier número de tanques. Usar *args y **kwargs\n",
    "# Escribe tu nueva función de reporte considerando lo anterior\n",
    "\n",
    "def informe(horaLanzamiento,destino, *tiempos, **tanques):\n",
    "    return f\"\"\"Hora de lanzamiento: {horaLanzamiento}\n",
    "    Destino: {destino}\n",
    "    Tiempo total de Vuelo: {sum(tiempos)} minutos.\n",
    "    Combustible total: {sum(tanques.values())}\n",
    "    \"\"\"\n",
    "\n",
    "print(informe(10, \"Japon\", 100, 70, tanque1=200, tanque2=300))"
   ]
  },
  {
   "cell_type": "code",
   "execution_count": 14,
   "metadata": {},
   "outputs": [
    {
     "name": "stdout",
     "output_type": "stream",
     "text": [
      "Hora de lanzamiento: 10\n",
      "    Destino: Japon\n",
      "    Tiempo total de Vuelo: 170 minutos.\n",
      "    Combustible total: 500\n",
      "    tanque1: 200\n",
      "tanque2: 300\n",
      "\n"
     ]
    }
   ],
   "source": [
    "# Debido a que el combustible que queda en los tanques es específico de cada tanque, \n",
    "# actualiza la función para usar el nombre de cada tanque en el informe.\n",
    "\n",
    "def informe(horaLanzamiento,destino, *tiempos, **tanques):\n",
    "    info = f\"\"\"Hora de lanzamiento: {horaLanzamiento}\n",
    "    Destino: {destino}\n",
    "    Tiempo total de Vuelo: {sum(tiempos)} minutos.\n",
    "    Combustible total: {sum(tanques.values())}\n",
    "    \"\"\"\n",
    "    for TanqueNombre, valor in tanques.items():\n",
    "        info += f\"{TanqueNombre}: {valor}\\n\"\n",
    "    return info\n",
    "\n",
    "\n",
    "print(informe(10, \"Japon\", 100, 70, tanque1=200, tanque2=300))"
   ]
  }
 ],
 "metadata": {
  "interpreter": {
   "hash": "fbd1fb525c7473c059e43b8e3f489c06f80027639af7ea78fd9669d48e671c97"
  },
  "kernelspec": {
   "display_name": "Python 3.10.1 64-bit",
   "language": "python",
   "name": "python3"
  },
  "language_info": {
   "codemirror_mode": {
    "name": "ipython",
    "version": 3
   },
   "file_extension": ".py",
   "mimetype": "text/x-python",
   "name": "python",
   "nbconvert_exporter": "python",
   "pygments_lexer": "ipython3",
   "version": "3.10.1"
  },
  "orig_nbformat": 4
 },
 "nbformat": 4,
 "nbformat_minor": 2
}
