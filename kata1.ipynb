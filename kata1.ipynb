{
 "cells": [
  {
   "cell_type": "markdown",
   "metadata": {},
   "source": [
    "## Primer programa - kata 1"
   ]
  },
  {
   "cell_type": "code",
   "execution_count": 13,
   "metadata": {},
   "outputs": [
    {
     "name": "stdout",
     "output_type": "stream",
     "text": [
      "Today's date is: $2022-02-08\n"
     ]
    }
   ],
   "source": [
    "# Codigo que muesta el dia de hoy\n",
    "\n",
    "from datetime import date\n",
    "print(f\"Today's date is: {date.today()}\")"
   ]
  },
  {
   "cell_type": "code",
   "execution_count": 21,
   "metadata": {},
   "outputs": [
    {
     "name": "stdout",
     "output_type": "stream",
     "text": [
      "11 parsec, is 35.877159999999996 lightyears\n",
      "5 lightyears, is 1.5330087442818774 parsec\n"
     ]
    }
   ],
   "source": [
    "# Programa de conversión entre parsecs y años luz.\n",
    "\n",
    "parsec = 11\n",
    "lightyears = 5\n",
    "parsecToLightyears= parsec*3.26156\n",
    "lightyearstoParsec= lightyears/3.26156\n",
    "\n",
    "print(str(parsec) + \" parsec, is \" + str(parsecToLightyears) + \" lightyears\")\n",
    "print(str(lightyears) + \" lightyears, is \" + str(lightyearstoParsec) + \" parsec\")"
   ]
  }
 ],
 "metadata": {
  "interpreter": {
   "hash": "fbd1fb525c7473c059e43b8e3f489c06f80027639af7ea78fd9669d48e671c97"
  },
  "kernelspec": {
   "display_name": "Python 3.10.1 64-bit",
   "language": "python",
   "name": "python3"
  },
  "language_info": {
   "codemirror_mode": {
    "name": "ipython",
    "version": 3
   },
   "file_extension": ".py",
   "mimetype": "text/x-python",
   "name": "python",
   "nbconvert_exporter": "python",
   "pygments_lexer": "ipython3",
   "version": "3.10.1"
  },
  "orig_nbformat": 4
 },
 "nbformat": 4,
 "nbformat_minor": 2
}
