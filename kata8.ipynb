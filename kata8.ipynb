{
 "cells": [
  {
   "cell_type": "markdown",
   "metadata": {},
   "source": [
    "## Ejercicio 1: Creación de diccionarios de Python"
   ]
  },
  {
   "cell_type": "code",
   "execution_count": 7,
   "metadata": {},
   "outputs": [
    {
     "name": "stdout",
     "output_type": "stream",
     "text": [
      "Mars\n",
      "2\n",
      "Plnaeta: Mars\n",
      "Circuferencia polar: 6752\n"
     ]
    }
   ],
   "source": [
    "# Crea un diccionario llamado planet con los datos propuestos\n",
    "planet={\n",
    "    \"name\":\"Mars\",\n",
    "    \"moons\":2 \n",
    "}\n",
    "# Muestra el nombre del planeta y el número de lunas que tiene.\n",
    "print(planet[\"name\"])\n",
    "print(planet[\"moons\"])\n",
    "#Agrega un nuevo valor con una clave de 'circunferencia (km)'.\n",
    "\n",
    "planet[\"polar\"] = 6752\n",
    "planet[\"equatorial\"] = 6792\n",
    "\n",
    "print(\"Plnaeta:\",planet[\"name\"])\n",
    "print(\"Circuferencia polar:\",planet[\"polar\"])"
   ]
  },
  {
   "cell_type": "markdown",
   "metadata": {},
   "source": [
    "## Ejercicio 2: Programación dinámica con diccionarios"
   ]
  },
  {
   "cell_type": "code",
   "execution_count": 9,
   "metadata": {},
   "outputs": [
    {
     "name": "stdout",
     "output_type": "stream",
     "text": [
      "17.833333333333332\n"
     ]
    }
   ],
   "source": [
    "planet_moons = {\n",
    "    'mercury': 0,\n",
    "    'venus': 0,\n",
    "    'earth': 1,\n",
    "    'mars': 2,\n",
    "    'jupiter': 79,\n",
    "    'saturn': 82,\n",
    "    'uranus': 27,\n",
    "    'neptune': 14,\n",
    "    'pluto': 5,\n",
    "    'haumea': 2,\n",
    "    'makemake': 1,\n",
    "    'eris': 1\n",
    "}\n",
    "\n",
    "\"\"\"Comienza almacenando el valor values de planet_moons en una variable denominada moons.\n",
    " A continuación, almacena el número de planetas en una variable denominada planets.\"\"\"\n",
    "# Añade el código para determinar el número de lunas.\n",
    "# Agrega el código para contar el número de lunas.\n",
    "moons=planet_moons.values()\n",
    "planets=len(planet_moons.keys())\n",
    "\n",
    "total_moons=0\n",
    "for i in moons:\n",
    "    total_moons=total_moons+i\n",
    "\n",
    "promedio=total_moons/planets\n",
    "print(promedio)"
   ]
  }
 ],
 "metadata": {
  "interpreter": {
   "hash": "fbd1fb525c7473c059e43b8e3f489c06f80027639af7ea78fd9669d48e671c97"
  },
  "kernelspec": {
   "display_name": "Python 3.10.1 64-bit",
   "language": "python",
   "name": "python3"
  },
  "language_info": {
   "codemirror_mode": {
    "name": "ipython",
    "version": 3
   },
   "file_extension": ".py",
   "mimetype": "text/x-python",
   "name": "python",
   "nbconvert_exporter": "python",
   "pygments_lexer": "ipython3",
   "version": "3.10.1"
  },
  "orig_nbformat": 4
 },
 "nbformat": 4,
 "nbformat_minor": 2
}
