{
 "cells": [
  {
   "cell_type": "markdown",
   "metadata": {},
   "source": [
    "## Ejercicio1 - Utilizar operadores aritméticos"
   ]
  },
  {
   "cell_type": "code",
   "execution_count": null,
   "metadata": {},
   "outputs": [],
   "source": [
    "\"\"\"programa que pueda calcular la distancia entre dos planetas. \n",
    "Comenzaremos usando dos distancias de planetas: Tierra (149.597.870 km) y Júpiter (778.547.200 km).\"\"\"\n",
    "# Crear variables para almacenar las dos distancias\n",
    "# ¡Asegúrate de quitar las comas!\n",
    "distTierra=149597870 #km\n",
    "distJupiter=778547200 #km\n",
    "\n",
    "#Restarás el primer planeta del segundo para determinar la distancia en kilómetros.\n",
    "distancia=distTierra-distJupiter #km\n",
    "distanciaMillas=distancia*0.621 #millas\n",
    "print(f\"\"\"Distancia en km: {distancia}\n",
    "Distancia en millas: {distanciaMillas}\"\"\")"
   ]
  },
  {
   "cell_type": "markdown",
   "metadata": {},
   "source": [
    "## Ejercicio 2: convierte cadenas en números y usa valores absolutos"
   ]
  },
  {
   "cell_type": "code",
   "execution_count": 1,
   "metadata": {},
   "outputs": [
    {
     "name": "stdout",
     "output_type": "stream",
     "text": [
      "Distancia en km: 119700000\n",
      "Distancia en millas: 74333700.0\n"
     ]
    }
   ],
   "source": [
    "# Crear una aplicación para trabajar con números y entrada de usuario.\n",
    "# Agrega el código para leer la distancia del sol para cada planeta.\n",
    "# Convierte las cadenas de ambos planetas a números enteros\n",
    "distMarte = int(input(\"Distancia de marte al Sol\"))\n",
    "distVenus = int(input(\"Distancia de Venus al Sol\"))\n",
    "# Realizar el cálculo y determinar el valor absoluto.\n",
    "distancia = abs(distMarte-distVenus)\n",
    "# Convertir de KM a Millas\n",
    "distanciaMillas = distancia*0.621\n",
    "\n",
    "print(f\"\"\"Distancia en km: {distancia}\n",
    "Distancia en millas: {distanciaMillas}\"\"\")"
   ]
  },
  {
   "cell_type": "code",
   "execution_count": null,
   "metadata": {},
   "outputs": [],
   "source": []
  }
 ],
 "metadata": {
  "interpreter": {
   "hash": "fbd1fb525c7473c059e43b8e3f489c06f80027639af7ea78fd9669d48e671c97"
  },
  "kernelspec": {
   "display_name": "Python 3.10.1 64-bit",
   "language": "python",
   "name": "python3"
  },
  "language_info": {
   "codemirror_mode": {
    "name": "ipython",
    "version": 3
   },
   "file_extension": ".py",
   "mimetype": "text/x-python",
   "name": "python",
   "nbconvert_exporter": "python",
   "pygments_lexer": "ipython3",
   "version": "3.10.1"
  },
  "orig_nbformat": 4
 },
 "nbformat": 4,
 "nbformat_minor": 2
}
