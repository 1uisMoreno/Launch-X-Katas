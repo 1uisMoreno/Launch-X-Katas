{
 "cells": [
  {
   "cell_type": "markdown",
   "metadata": {},
   "source": [
    "## Ejercicio1: Crear y usar listas de Python"
   ]
  },
  {
   "cell_type": "code",
   "execution_count": 1,
   "metadata": {},
   "outputs": [
    {
     "data": {
      "text/plain": [
       "'Pluton'"
      ]
     },
     "execution_count": 1,
     "metadata": {},
     "output_type": "execute_result"
    }
   ],
   "source": [
    "#Agrega los ocho planetas (sin Plutón) a una lista.\n",
    "\n",
    "planetas=[\"Mercurio\",\"Venus\",\"Tierra\",\"Marter\",\"Jupiter\",\"Saturno\",\"Urano\",\"Neptuno\"]\n",
    "\n",
    "#Agrega a Plutón a la lista que creaste. Luego muestra tanto el número de planetas como el último planeta de la lista.\n",
    "\n",
    "planetas.append(\"Pluton\")\n",
    "planetas[-1]\n"
   ]
  },
  {
   "cell_type": "markdown",
   "metadata": {},
   "source": [
    "## Ejercicio 2: Trabajando con datos de una lista\n"
   ]
  },
  {
   "cell_type": "code",
   "execution_count": 7,
   "metadata": {},
   "outputs": [
    {
     "name": "stdout",
     "output_type": "stream",
     "text": [
      "Planetas más cercanos al sol\n",
      "['Mercurio', 'Venus', 'Tierra', 'Marte']\n",
      "Planetas más alejados del sol\n",
      "['Saturno', 'Urano', 'Neptuno']\n"
     ]
    }
   ],
   "source": [
    "# Comienza agregando el código para crear una lista con los planetas.\n",
    "planetas=[\"Mercurio\",\"Venus\",\"Tierra\",\"Marte\",\"Jupiter\",\"Saturno\",\"Urano\",\"Neptuno\"]\n",
    "\n",
    "#Solicita al usuario el nombre de un planeta\n",
    "\n",
    "solicitud=input(\"Dame el nombre de un planeta(La primera letra en mayuscula).\")\n",
    "#Encuentra el planeta en la lista\n",
    "indice=planetas.index(solicitud)\n",
    "#Mostrar planetas más cercanos al sol que el que el usuario ingresó\n",
    "planetasCercanos = planetas[:indice]\n",
    "print(\"Planetas más cercanos al sol:\")\n",
    "print(planetasCercanos)\n",
    "# Mostrar planetas más alejados del sol que el que el usuario ingresó.\n",
    "planetasLejanos = planetas[indice+1:]\n",
    "print(\"Planetas más alejados del sol:\")\n",
    "print(planetasLejanos)"
   ]
  }
 ],
 "metadata": {
  "interpreter": {
   "hash": "fbd1fb525c7473c059e43b8e3f489c06f80027639af7ea78fd9669d48e671c97"
  },
  "kernelspec": {
   "display_name": "Python 3.10.1 64-bit",
   "language": "python",
   "name": "python3"
  },
  "language_info": {
   "codemirror_mode": {
    "name": "ipython",
    "version": 3
   },
   "file_extension": ".py",
   "mimetype": "text/x-python",
   "name": "python",
   "nbconvert_exporter": "python",
   "pygments_lexer": "ipython3",
   "version": "3.10.1"
  },
  "orig_nbformat": 4
 },
 "nbformat": 4,
 "nbformat_minor": 2
}
