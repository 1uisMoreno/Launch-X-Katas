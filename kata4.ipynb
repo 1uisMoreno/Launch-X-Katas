{
 "cells": [
  {
   "cell_type": "markdown",
   "metadata": {},
   "source": [
    "## Ejercicio 1: Transformar cadenas"
   ]
  },
  {
   "cell_type": "code",
   "execution_count": 40,
   "metadata": {},
   "outputs": [
    {
     "name": "stdout",
     "output_type": "stream",
     "text": [
      "temperature\n"
     ]
    },
    {
     "data": {
      "text/plain": [
       "\"Interesting\\nfacts\\nabout\\nthe\\nMoon.\\nThe\\nMoon\\nis\\nEarth's\\nonly\\nsatellite.\\nThere\\nare\\nseveral\\ninteresting\\nfacts\\nabout\\nthe\\nMoon\\nand\\nhow\\nit\\naffects\\nlife\\nhere\\non\\nEarth.\\nOn\\naverage,\\nthe\\nMoon\\nmoves\\n4cm\\naway\\nfrom\\nthe\\nEarth\\nevery\\nyear.\\nThis\\nyearly\\ndrift\\nis\\nnot\\nsignificant\\nenough\\nto\\ncause\\nimmediate\\neffects\\non\\nEarth.\\nThe\\nhighest\\ndaylight\\ntemperature\\nof\\nthe\\nMoon\\nis\\n127\\nCelcius\""
      ]
     },
     "execution_count": 40,
     "metadata": {},
     "output_type": "execute_result"
    }
   ],
   "source": [
    "#El texto con el que trabajarás es el siguiente:\n",
    "text = \"\"\"Interesting facts about the Moon. The Moon is Earth's only satellite. There are several interesting facts about the Moon and how it affects life here on Earth. \n",
    "On average, the Moon moves 4cm away from the Earth every year. This yearly drift is not significant enough to cause immediate effects on Earth. The highest daylight temperature of the Moon is 127 C.\"\"\"\n",
    "#Primero, divide el texto en cada oración para trabajar con su contenido:\n",
    "textoDividido = text.split()\n",
    "\n",
    "# Ahora, define algunas palabras clave para búsqueda que te ayudarán a determinar si una oración contiene un hecho.\n",
    "# Define las palabras pista: average, temperature y distance suenan bien\n",
    "palabras = [\"avarage\",\"temperature\",\"distance\"]\n",
    "\n",
    "#Crea un bucle para imprimir solo datos sobre la Luna que estén relacionados con las palabras clave definidas anteriormente:\n",
    "for i in textoDividido:\n",
    "    for j in palabras:\n",
    "        if j in i:\n",
    "            print(i)\n",
    "\n",
    "#Finalmente, actualiza el bucle(ciclo) para cambiar C a Celsius:\n",
    "for ix , i in enumerate(textoDividido):\n",
    "    if \"C\" in i:\n",
    "        textoDividido[ix]=\"Celcius\"\n",
    "'\\n'.join(textoDividido)\n",
    "\n"
   ]
  },
  {
   "cell_type": "markdown",
   "metadata": {},
   "source": [
    "## Ejercicio 2: Formateando Cadenas"
   ]
  },
  {
   "cell_type": "code",
   "execution_count": 58,
   "metadata": {},
   "outputs": [
    {
     "name": "stdout",
     "output_type": "stream",
     "text": [
      "LA GRAVEDAD EN LUNA\n",
      "Nombre del planeta: Tierra\n",
      "Gravedad en Luna: 1.6199999999999999 m/s2 \n",
      "\n",
      "LA GRAVEDAD EN GANÍMEDES\n",
      "Nombre del planeta: Marte \n",
      "Gravedad en Ganímedes: 1.4300000000000002 m/s2 \n",
      "\n"
     ]
    }
   ],
   "source": [
    "# Datos con los que vas a trabajar\n",
    "nombre = \"Luna\"\n",
    "gravedad = 0.00162 # in kms\n",
    "planeta = \"Tierra\"\n",
    "\n",
    "\"\"\"Crea un título para el texto. Debido a que este texto trata sobre la gravedad en la Tierra y la Luna, \n",
    "úsalo para crear un título significativo. Utiliza las variables en lugar de escribir.\"\"\"\n",
    "\n",
    "titulo=f\"LA GRAVEDAD EN {nombre.upper()}\"\n",
    "\n",
    "\"\"\"Ahora crea una plantilla de cadena multilínea para contener el resto de la información. \n",
    "En lugar de usar kilómetros, debes convertir la distancia a metros multiplicando por 1,000.\"\"\"\n",
    "\n",
    "plantilla=f\"\"\"Nombre del planeta: {planeta}\n",
    "Gravedad en {nombre}: {gravedad*1000} m/s2 \"\"\"\n",
    "\n",
    "# Unión de ambas cadenas\n",
    "union=f\"\"\"{titulo}\n",
    "{plantilla}\n",
    "\"\"\"\n",
    "print(union)\n",
    "\n",
    "\n",
    "# Nuevos datos muestra\n",
    "planeta = 'Marte '\n",
    "gravedad  = 0.00143 #in km\n",
    "nombre = 'Ganímedes'\n",
    "\n",
    "# Nueva plantilla\n",
    "titulo=f\"LA GRAVEDAD EN {nombre.upper()}\"\n",
    "plantilla=f\"\"\"Nombre del planeta: {planeta}\n",
    "Gravedad en {nombre}: {gravedad*1000} m/s2 \"\"\"\n",
    "nueva_union=f\"\"\"{titulo}\n",
    "{plantilla}\n",
    "\"\"\"\n",
    "#.format()\n",
    "print(nueva_union.format(nombre=nombre,gravedad=gravedad,planeta=planeta))"
   ]
  }
 ],
 "metadata": {
  "interpreter": {
   "hash": "fbd1fb525c7473c059e43b8e3f489c06f80027639af7ea78fd9669d48e671c97"
  },
  "kernelspec": {
   "display_name": "Python 3.10.1 64-bit",
   "language": "python",
   "name": "python3"
  },
  "language_info": {
   "codemirror_mode": {
    "name": "ipython",
    "version": 3
   },
   "file_extension": ".py",
   "mimetype": "text/x-python",
   "name": "python",
   "nbconvert_exporter": "python",
   "pygments_lexer": "ipython3",
   "version": "3.10.1"
  },
  "orig_nbformat": 4
 },
 "nbformat": 4,
 "nbformat_minor": 2
}
